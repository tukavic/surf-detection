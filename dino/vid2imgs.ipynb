{
 "cells": [
  {
   "cell_type": "code",
   "execution_count": 1,
   "source": [
    "\n",
    "import os\n",
    "import imageio\n",
    "os.environ['KMP_DUPLICATE_LIB_OK']='TRUE'"
   ],
   "outputs": [],
   "metadata": {}
  },
  {
   "cell_type": "code",
   "execution_count": 6,
   "source": [
    "reader = imageio.get_reader('/Users/lukethomas/Documents/GitHub/surf-detection/dino/data/wc-jacks.stream.20210712T135457640.mp4')\n",
    "# for i, im in enumerate(reader):\n",
    "#     print('Mean of frame %i is %1.1f' % (i, im.mean()))\n",
    "meta = reader.get_meta_data()"
   ],
   "outputs": [],
   "metadata": {}
  },
  {
   "cell_type": "code",
   "execution_count": 9,
   "source": [
    "num_frames = meta['fps']*meta['duration']\n",
    "num_frames"
   ],
   "outputs": [
    {
     "output_type": "execute_result",
     "data": {
      "text/plain": [
       "18042.0"
      ]
     },
     "metadata": {},
     "execution_count": 9
    }
   ],
   "metadata": {}
  },
  {
   "cell_type": "code",
   "execution_count": null,
   "source": [],
   "outputs": [],
   "metadata": {}
  }
 ],
 "metadata": {
  "orig_nbformat": 4,
  "language_info": {
   "name": "python",
   "version": "3.8.3",
   "mimetype": "text/x-python",
   "codemirror_mode": {
    "name": "ipython",
    "version": 3
   },
   "pygments_lexer": "ipython3",
   "nbconvert_exporter": "python",
   "file_extension": ".py"
  },
  "kernelspec": {
   "name": "python3",
   "display_name": "Python 3.8.3 64-bit ('base': conda)"
  },
  "interpreter": {
   "hash": "66497cb3f375ff6c6d0c00b57d96940fcdae5e23d85c3719ba191f91b07a41a1"
  }
 },
 "nbformat": 4,
 "nbformat_minor": 2
}