{
 "cells": [
  {
   "cell_type": "code",
   "execution_count": 2,
   "metadata": {},
   "outputs": [],
   "source": [
    "import os\n",
    "\n",
    "import numpy as np\n",
    "import pandas as pd\n",
    "import seaborn as sns\n",
    "import matplotlib.pyplot as plt\n",
    "from skimage.feature import blob_dog, blob_doh, blob_log\n",
    "\n",
    "import torch\n",
    "from torch import nn\n",
    "from torchvision import transforms as pth_transforms\n",
    "\n",
    "from PIL import Image\n",
    "\n",
    "import vision_transformer as vits\n",
    "\n",
    "os.environ['KMP_DUPLICATE_LIB_OK']='TRUE'"
   ]
  },
  {
   "cell_type": "markdown",
   "metadata": {},
   "source": [
    "# Load Dataset"
   ]
  },
  {
   "cell_type": "code",
   "execution_count": 24,
   "metadata": {},
   "outputs": [
    {
     "data": {
      "text/html": [
       "<div>\n",
       "<style scoped>\n",
       "    .dataframe tbody tr th:only-of-type {\n",
       "        vertical-align: middle;\n",
       "    }\n",
       "\n",
       "    .dataframe tbody tr th {\n",
       "        vertical-align: top;\n",
       "    }\n",
       "\n",
       "    .dataframe thead th {\n",
       "        text-align: right;\n",
       "    }\n",
       "</style>\n",
       "<table border=\"1\" class=\"dataframe\">\n",
       "  <thead>\n",
       "    <tr style=\"text-align: right;\">\n",
       "      <th></th>\n",
       "      <th>filename</th>\n",
       "      <th>time</th>\n",
       "    </tr>\n",
       "  </thead>\n",
       "  <tbody>\n",
       "    <tr>\n",
       "      <th>0</th>\n",
       "      <td>./data/images/2021-07-12 07:35:03-07:00.png</td>\n",
       "      <td>2021-07-12 07:35:03-07:00</td>\n",
       "    </tr>\n",
       "    <tr>\n",
       "      <th>1</th>\n",
       "      <td>./data/images/2021-07-12 07:36:03-07:00.png</td>\n",
       "      <td>2021-07-12 07:36:03-07:00</td>\n",
       "    </tr>\n",
       "    <tr>\n",
       "      <th>2</th>\n",
       "      <td>./data/images/2021-07-12 07:37:03-07:00.png</td>\n",
       "      <td>2021-07-12 07:37:03-07:00</td>\n",
       "    </tr>\n",
       "    <tr>\n",
       "      <th>3</th>\n",
       "      <td>./data/images/2021-07-12 07:38:03-07:00.png</td>\n",
       "      <td>2021-07-12 07:38:03-07:00</td>\n",
       "    </tr>\n",
       "    <tr>\n",
       "      <th>4</th>\n",
       "      <td>./data/images/2021-07-12 07:39:03-07:00.png</td>\n",
       "      <td>2021-07-12 07:39:03-07:00</td>\n",
       "    </tr>\n",
       "    <tr>\n",
       "      <th>...</th>\n",
       "      <td>...</td>\n",
       "      <td>...</td>\n",
       "    </tr>\n",
       "    <tr>\n",
       "      <th>193</th>\n",
       "      <td>./data/images/2021-07-12 07:00:57-07:00.png</td>\n",
       "      <td>2021-07-12 07:00:57-07:00</td>\n",
       "    </tr>\n",
       "    <tr>\n",
       "      <th>194</th>\n",
       "      <td>./data/images/2021-07-12 07:01:57-07:00.png</td>\n",
       "      <td>2021-07-12 07:01:57-07:00</td>\n",
       "    </tr>\n",
       "    <tr>\n",
       "      <th>195</th>\n",
       "      <td>./data/images/2021-07-12 07:02:57-07:00.png</td>\n",
       "      <td>2021-07-12 07:02:57-07:00</td>\n",
       "    </tr>\n",
       "    <tr>\n",
       "      <th>196</th>\n",
       "      <td>./data/images/2021-07-12 07:03:57-07:00.png</td>\n",
       "      <td>2021-07-12 07:03:57-07:00</td>\n",
       "    </tr>\n",
       "    <tr>\n",
       "      <th>197</th>\n",
       "      <td>./data/images/2021-07-12 07:04:57-07:00.png</td>\n",
       "      <td>2021-07-12 07:04:57-07:00</td>\n",
       "    </tr>\n",
       "  </tbody>\n",
       "</table>\n",
       "<p>198 rows × 2 columns</p>\n",
       "</div>"
      ],
      "text/plain": [
       "                                        filename                      time\n",
       "0    ./data/images/2021-07-12 07:35:03-07:00.png 2021-07-12 07:35:03-07:00\n",
       "1    ./data/images/2021-07-12 07:36:03-07:00.png 2021-07-12 07:36:03-07:00\n",
       "2    ./data/images/2021-07-12 07:37:03-07:00.png 2021-07-12 07:37:03-07:00\n",
       "3    ./data/images/2021-07-12 07:38:03-07:00.png 2021-07-12 07:38:03-07:00\n",
       "4    ./data/images/2021-07-12 07:39:03-07:00.png 2021-07-12 07:39:03-07:00\n",
       "..                                           ...                       ...\n",
       "193  ./data/images/2021-07-12 07:00:57-07:00.png 2021-07-12 07:00:57-07:00\n",
       "194  ./data/images/2021-07-12 07:01:57-07:00.png 2021-07-12 07:01:57-07:00\n",
       "195  ./data/images/2021-07-12 07:02:57-07:00.png 2021-07-12 07:02:57-07:00\n",
       "196  ./data/images/2021-07-12 07:03:57-07:00.png 2021-07-12 07:03:57-07:00\n",
       "197  ./data/images/2021-07-12 07:04:57-07:00.png 2021-07-12 07:04:57-07:00\n",
       "\n",
       "[198 rows x 2 columns]"
      ]
     },
     "execution_count": 24,
     "metadata": {},
     "output_type": "execute_result"
    }
   ],
   "source": [
    "df = pd.read_csv('jacks5to8.csv', index_col=0)\n",
    "df.time = pd.to_datetime(df.time)\n",
    "df = df\n",
    "df"
   ]
  },
  {
   "cell_type": "markdown",
   "metadata": {},
   "source": [
    "## Load model"
   ]
  },
  {
   "cell_type": "code",
   "execution_count": 4,
   "metadata": {},
   "outputs": [],
   "source": [
    "arch = 'vit_small'\n",
    "patch_size = 8\n",
    "pretrained_weights = 'vit_small'\n",
    "checkpoint_key = None\n",
    "image_path = './data/images/'\n",
    "\n",
    "# image_size = (592, 1184)\n",
    "output_dir = '.'\n",
    "threshold = None"
   ]
  },
  {
   "cell_type": "code",
   "execution_count": 5,
   "metadata": {},
   "outputs": [
    {
     "name": "stdout",
     "output_type": "stream",
     "text": [
      "Please use the `--pretrained_weights` argument to indicate the path of the checkpoint to evaluate.\n",
      "Since no pretrained weights have been provided, we load the reference pretrained DINO weights.\n"
     ]
    },
    {
     "name": "stderr",
     "output_type": "stream",
     "text": [
      "Downloading: \"https://dl.fbaipublicfiles.com/dino/dino_deitsmall8_300ep_pretrain/dino_deitsmall8_300ep_pretrain.pth\" to /home/lathomas5/.cache/torch/hub/checkpoints/dino_deitsmall8_300ep_pretrain.pth\n"
     ]
    },
    {
     "data": {
      "application/vnd.jupyter.widget-view+json": {
       "model_id": "347bfe014a754ec38c6390ca78879d97",
       "version_major": 2,
       "version_minor": 0
      },
      "text/plain": [
       "HBox(children=(FloatProgress(value=0.0, max=86728949.0), HTML(value='')))"
      ]
     },
     "metadata": {},
     "output_type": "display_data"
    },
    {
     "name": "stdout",
     "output_type": "stream",
     "text": [
      "\n"
     ]
    }
   ],
   "source": [
    "device = torch.device(\"cuda\") if torch.cuda.is_available() else torch.device(\"cpu\")\n",
    "# build model\n",
    "model = vits.__dict__[arch](patch_size=patch_size, num_classes=0)\n",
    "for p in model.parameters():\n",
    "    p.requires_grad = False\n",
    "model.eval()\n",
    "model.to(device)\n",
    "if os.path.isfile(pretrained_weights):\n",
    "    state_dict = torch.load(pretrained_weights, map_location=\"cpu\")\n",
    "    if checkpoint_key is not None and checkpoint_key in state_dict:\n",
    "        print(f\"Take key {checkpoint_key} in provided checkpoint dict\")\n",
    "        state_dict = state_dict[checkpoint_key]\n",
    "    # remove `module.` prefix\n",
    "    state_dict = {k.replace(\"module.\", \"\"): v for k, v in state_dict.items()}\n",
    "    # remove `backbone.` prefix induced by multicrop wrapper\n",
    "    state_dict = {k.replace(\"backbone.\", \"\"): v for k, v in state_dict.items()}\n",
    "    msg = model.load_state_dict(state_dict, strict=False)\n",
    "    print('Pretrained weights found at {} and loaded with msg: {}'.format(pretrained_weights, msg))\n",
    "else:\n",
    "    print(\"Please use the `--pretrained_weights` argument to indicate the path of the checkpoint to evaluate.\")\n",
    "    url = None\n",
    "    if arch == \"vit_small\" and patch_size == 16:\n",
    "        url = \"dino_deitsmall16_pretrain/dino_deitsmall16_pretrain.pth\"\n",
    "    elif arch == \"vit_small\" and patch_size == 8:\n",
    "        url = \"dino_deitsmall8_300ep_pretrain/dino_deitsmall8_300ep_pretrain.pth\"  # model used for visualizations in our paper\n",
    "    elif arch == \"vit_base\" and patch_size == 16:\n",
    "        url = \"dino_vitbase16_pretrain/dino_vitbase16_pretrain.pth\"\n",
    "    elif arch == \"vit_base\" and patch_size == 8:\n",
    "        url = \"dino_vitbase8_pretrain/dino_vitbase8_pretrain.pth\"\n",
    "    if url is not None:\n",
    "        print(\"Since no pretrained weights have been provided, we load the reference pretrained DINO weights.\")\n",
    "        state_dict = torch.hub.load_state_dict_from_url(url=\"https://dl.fbaipublicfiles.com/dino/\" + url)\n",
    "        model.load_state_dict(state_dict, strict=True)\n",
    "    else:\n",
    "        print(\"There is no reference weights available for this model => We use random weights.\")"
   ]
  },
  {
   "cell_type": "code",
   "execution_count": 6,
   "metadata": {},
   "outputs": [],
   "source": [
    "def load_image(file, image_size = (592, 1184)):\n",
    "    '''loads picture and applies torch transforms'''\n",
    "    img = Image.open(file)\n",
    "    img = img.convert('RGB')\n",
    "    \n",
    "    transform = pth_transforms.Compose([\n",
    "        pth_transforms.Resize(image_size),\n",
    "        pth_transforms.ToTensor(),\n",
    "        pth_transforms.Normalize((0.485, 0.456, 0.406), (0.229, 0.224, 0.225)),\n",
    "    ])\n",
    "    img = transform(img)\n",
    "    \n",
    "    return img"
   ]
  },
  {
   "cell_type": "code",
   "execution_count": 7,
   "metadata": {},
   "outputs": [],
   "source": [
    "def patch_image(img, patch_size):\n",
    "    '''Reshapes image to be divisible by the patch size'''\n",
    "    w, h = img.shape[1] - img.shape[1] % patch_size, img.shape[2] - img.shape[2] % patch_size\n",
    "    img = img[:, :w, :h].unsqueeze(0)\n",
    "\n",
    "    w_featmap = img.shape[-2] // patch_size\n",
    "    h_featmap = img.shape[-1] // patch_size\n",
    "    \n",
    "    return img, w_featmap, h_featmap"
   ]
  },
  {
   "cell_type": "code",
   "execution_count": 21,
   "metadata": {},
   "outputs": [],
   "source": [
    "def mask_image(img, patch_size):\n",
    "    '''Passes image through model and returns attention mask'''\n",
    "    img, w_featmap, h_featmap = patch_image(img, patch_size)\n",
    "    attentions = model.get_last_selfattention(img.to(device))\n",
    "    nh = attentions.shape[1] # number of head\n",
    "\n",
    "    # we keep only the output patch attention\n",
    "    heatmap = attentions[0, :, 0, 1:].reshape(nh, -1)\n",
    "    heatmap = heatmap.reshape(nh, w_featmap, h_featmap)\n",
    "    \n",
    "    # interpolate attention mask back to original image size\n",
    "    heatmap = nn.functional.interpolate(heatmap.unsqueeze(0), scale_factor=patch_size, mode=\"nearest\")[0].cpu().numpy()\n",
    "    \n",
    "    return heatmap.sum(0).astype('double')"
   ]
  },
  {
   "cell_type": "code",
   "execution_count": 22,
   "metadata": {},
   "outputs": [],
   "source": [
    "def get_blobs(heatimg):\n",
    "    '''\n",
    "    predicts the number of surfers as the number of \n",
    "    blobs found in the attention mask of an image\n",
    "    '''\n",
    "    blobs = blob_doh(heatimg*256, threshold=0.05, min_sigma = 10, max_sigma=50)\n",
    "    \n",
    "    return blobs"
   ]
  },
  {
   "cell_type": "code",
   "execution_count": 23,
   "metadata": {},
   "outputs": [
    {
     "name": "stderr",
     "output_type": "stream",
     "text": [
      "/home/lathomas5/miniconda3/lib/python3.8/site-packages/torch/nn/functional.py:3609: UserWarning: Default upsampling behavior when mode=bicubic is changed to align_corners=False since 0.4.0. Please specify align_corners=True if the old behavior is desired. See the documentation of nn.Upsample for details.\n",
      "  warnings.warn(\n",
      "/home/lathomas5/miniconda3/lib/python3.8/site-packages/torch/nn/functional.py:3657: UserWarning: The default behavior for interpolate/upsample with float scale_factor changed in 1.6.0 to align with other frameworks/libraries, and now uses scale_factor directly, instead of relying on the computed output size. If you wish to restore the old behavior, please set recompute_scale_factor=True. See the documentation of nn.Upsample for details. \n",
      "  warnings.warn(\n"
     ]
    },
    {
     "name": "stdout",
     "output_type": "stream",
     "text": [
      "15\n"
     ]
    }
   ],
   "source": [
    "def predict(row, patch_size=8):\n",
    "    img = load_image(row['filename'])\n",
    "    heatimg = mask_image(img, patch_size)\n",
    "    blobs = get_blobs(heatimg)\n",
    "    num_blobs = len(blobs)\n",
    "    # row['pred_num_surfers'] = num_blobs\n",
    "    \n",
    "    return num_blobs, blobs, img, heatimg\n",
    "n, blobs, img, heatimg = predict(df.iloc[0], patch_size = patch_size)\n",
    "print(n)"
   ]
  },
  {
   "cell_type": "code",
   "execution_count": 11,
   "metadata": {},
   "outputs": [
    {
     "data": {
      "text/plain": [
       "'./data/images/2021-07-12 07:35:03-07:00.png'"
      ]
     },
     "execution_count": 11,
     "metadata": {},
     "output_type": "execute_result"
    }
   ],
   "source": [
    "df.iloc[0].filename"
   ]
  },
  {
   "cell_type": "code",
   "execution_count": 12,
   "metadata": {},
   "outputs": [
    {
     "name": "stdout",
     "output_type": "stream",
     "text": [
      "15\n"
     ]
    },
    {
     "data": {
      "image/png": "[encoded data removed]",
      "text/plain": [
       "<Figure size 432x288 with 1 Axes>"
      ]
     },
     "metadata": {
      "needs_background": "light"
     },
     "output_type": "display_data"
    }
   ],
   "source": [
    "# n, img, heatimg = predict(df.iloc[0], patch_size = patch_size)\n",
    "\n",
    "print(n)\n",
    "plt.imshow(heatimg)\n",
    "plt.scatter(blobs[:, 1], blobs[:, 0], c='white')\n",
    "plt.show()"
   ]
  },
  {
   "cell_type": "code",
   "execution_count": 25,
   "metadata": {},
   "outputs": [
    {
     "name": "stdout",
     "output_type": "stream",
     "text": [
      "0 "
     ]
    },
    {
     "name": "stderr",
     "output_type": "stream",
     "text": [
      "/home/lathomas5/miniconda3/lib/python3.8/site-packages/torch/nn/functional.py:3609: UserWarning: Default upsampling behavior when mode=bicubic is changed to align_corners=False since 0.4.0. Please specify align_corners=True if the old behavior is desired. See the documentation of nn.Upsample for details.\n",
      "  warnings.warn(\n",
      "/home/lathomas5/miniconda3/lib/python3.8/site-packages/torch/nn/functional.py:3657: UserWarning: The default behavior for interpolate/upsample with float scale_factor changed in 1.6.0 to align with other frameworks/libraries, and now uses scale_factor directly, instead of relying on the computed output size. If you wish to restore the old behavior, please set recompute_scale_factor=True. See the documentation of nn.Upsample for details. \n",
      "  warnings.warn(\n"
     ]
    },
    {
     "name": "stdout",
     "output_type": "stream",
     "text": [
      "1 2 3 4 5 6 7 8 9 10 11 12 13 14 15 16 17 18 19 20 21 22 23 24 25 26 27 28 29 30 31 32 33 34 35 36 37 38 39 40 41 42 43 44 45 46 47 48 49 50 51 52 53 54 55 56 57 58 59 60 61 62 63 64 65 66 67 68 69 70 71 72 73 74 75 76 77 78 79 80 81 82 83 84 85 86 87 88 89 90 91 92 93 94 95 96 97 98 99 100 101 102 103 104 105 106 107 108 109 110 111 112 113 114 115 116 117 118 119 120 121 122 123 124 125 126 127 128 129 130 131 132 133 134 135 136 137 138 139 140 141 142 143 144 145 146 147 148 149 150 151 152 153 154 155 156 157 158 159 160 161 162 163 164 165 166 167 168 169 170 171 172 173 174 175 176 177 178 179 180 181 182 183 184 185 186 187 188 189 190 191 192 193 194 195 196 197 14\n"
     ]
    },
    {
     "data": {
      "text/html": [
       "<div>\n",
       "<style scoped>\n",
       "    .dataframe tbody tr th:only-of-type {\n",
       "        vertical-align: middle;\n",
       "    }\n",
       "\n",
       "    .dataframe tbody tr th {\n",
       "        vertical-align: top;\n",
       "    }\n",
       "\n",
       "    .dataframe thead th {\n",
       "        text-align: right;\n",
       "    }\n",
       "</style>\n",
       "<table border=\"1\" class=\"dataframe\">\n",
       "  <thead>\n",
       "    <tr style=\"text-align: right;\">\n",
       "      <th></th>\n",
       "      <th>filename</th>\n",
       "      <th>time</th>\n",
       "      <th>surfer count</th>\n",
       "    </tr>\n",
       "  </thead>\n",
       "  <tbody>\n",
       "    <tr>\n",
       "      <th>0</th>\n",
       "      <td>./data/images/2021-07-12 07:35:03-07:00.png</td>\n",
       "      <td>2021-07-12 07:35:03-07:00</td>\n",
       "      <td>15</td>\n",
       "    </tr>\n",
       "    <tr>\n",
       "      <th>1</th>\n",
       "      <td>./data/images/2021-07-12 07:36:03-07:00.png</td>\n",
       "      <td>2021-07-12 07:36:03-07:00</td>\n",
       "      <td>17</td>\n",
       "    </tr>\n",
       "    <tr>\n",
       "      <th>2</th>\n",
       "      <td>./data/images/2021-07-12 07:37:03-07:00.png</td>\n",
       "      <td>2021-07-12 07:37:03-07:00</td>\n",
       "      <td>15</td>\n",
       "    </tr>\n",
       "    <tr>\n",
       "      <th>3</th>\n",
       "      <td>./data/images/2021-07-12 07:38:03-07:00.png</td>\n",
       "      <td>2021-07-12 07:38:03-07:00</td>\n",
       "      <td>12</td>\n",
       "    </tr>\n",
       "    <tr>\n",
       "      <th>4</th>\n",
       "      <td>./data/images/2021-07-12 07:39:03-07:00.png</td>\n",
       "      <td>2021-07-12 07:39:03-07:00</td>\n",
       "      <td>15</td>\n",
       "    </tr>\n",
       "    <tr>\n",
       "      <th>...</th>\n",
       "      <td>...</td>\n",
       "      <td>...</td>\n",
       "      <td>...</td>\n",
       "    </tr>\n",
       "    <tr>\n",
       "      <th>193</th>\n",
       "      <td>./data/images/2021-07-12 07:00:57-07:00.png</td>\n",
       "      <td>2021-07-12 07:00:57-07:00</td>\n",
       "      <td>14</td>\n",
       "    </tr>\n",
       "    <tr>\n",
       "      <th>194</th>\n",
       "      <td>./data/images/2021-07-12 07:01:57-07:00.png</td>\n",
       "      <td>2021-07-12 07:01:57-07:00</td>\n",
       "      <td>17</td>\n",
       "    </tr>\n",
       "    <tr>\n",
       "      <th>195</th>\n",
       "      <td>./data/images/2021-07-12 07:02:57-07:00.png</td>\n",
       "      <td>2021-07-12 07:02:57-07:00</td>\n",
       "      <td>13</td>\n",
       "    </tr>\n",
       "    <tr>\n",
       "      <th>196</th>\n",
       "      <td>./data/images/2021-07-12 07:03:57-07:00.png</td>\n",
       "      <td>2021-07-12 07:03:57-07:00</td>\n",
       "      <td>12</td>\n",
       "    </tr>\n",
       "    <tr>\n",
       "      <th>197</th>\n",
       "      <td>./data/images/2021-07-12 07:04:57-07:00.png</td>\n",
       "      <td>2021-07-12 07:04:57-07:00</td>\n",
       "      <td>14</td>\n",
       "    </tr>\n",
       "  </tbody>\n",
       "</table>\n",
       "<p>198 rows × 3 columns</p>\n",
       "</div>"
      ],
      "text/plain": [
       "                                        filename                      time  \\\n",
       "0    ./data/images/2021-07-12 07:35:03-07:00.png 2021-07-12 07:35:03-07:00   \n",
       "1    ./data/images/2021-07-12 07:36:03-07:00.png 2021-07-12 07:36:03-07:00   \n",
       "2    ./data/images/2021-07-12 07:37:03-07:00.png 2021-07-12 07:37:03-07:00   \n",
       "3    ./data/images/2021-07-12 07:38:03-07:00.png 2021-07-12 07:38:03-07:00   \n",
       "4    ./data/images/2021-07-12 07:39:03-07:00.png 2021-07-12 07:39:03-07:00   \n",
       "..                                           ...                       ...   \n",
       "193  ./data/images/2021-07-12 07:00:57-07:00.png 2021-07-12 07:00:57-07:00   \n",
       "194  ./data/images/2021-07-12 07:01:57-07:00.png 2021-07-12 07:01:57-07:00   \n",
       "195  ./data/images/2021-07-12 07:02:57-07:00.png 2021-07-12 07:02:57-07:00   \n",
       "196  ./data/images/2021-07-12 07:03:57-07:00.png 2021-07-12 07:03:57-07:00   \n",
       "197  ./data/images/2021-07-12 07:04:57-07:00.png 2021-07-12 07:04:57-07:00   \n",
       "\n",
       "     surfer count  \n",
       "0              15  \n",
       "1              17  \n",
       "2              15  \n",
       "3              12  \n",
       "4              15  \n",
       "..            ...  \n",
       "193            14  \n",
       "194            17  \n",
       "195            13  \n",
       "196            12  \n",
       "197            14  \n",
       "\n",
       "[198 rows x 3 columns]"
      ]
     },
     "execution_count": 25,
     "metadata": {},
     "output_type": "execute_result"
    }
   ],
   "source": [
    "preds = []\n",
    "for i in range(len(df)):\n",
    "    print(i, end = ' ')\n",
    "    n,_,_,_ = predict(df.iloc[i], patch_size = patch_size)\n",
    "    preds.append(n)\n",
    "    \n",
    "print(n)\n",
    "df['surfer count'] = preds\n",
    "df\n",
    "#     print(row['time'])"
   ]
  },
  {
   "cell_type": "code",
   "execution_count": 28,
   "metadata": {},
   "outputs": [],
   "source": [
    "sdf = df.sort_values('time')"
   ]
  },
  {
   "cell_type": "code",
   "execution_count": 29,
   "metadata": {},
   "outputs": [
    {
     "data": {
      "text/plain": [
       "[<matplotlib.lines.Line2D at 0x7fcc4bd1ac40>]"
      ]
     },
     "execution_count": 29,
     "metadata": {},
     "output_type": "execute_result"
    },
    {
     "data": {
      "image/png": "[encoded data removed]",
      "text/plain": [
       "<Figure size 432x288 with 1 Axes>"
      ]
     },
     "metadata": {
      "needs_background": "light"
     },
     "output_type": "display_data"
    }
   ],
   "source": [
    "fig, ax = plt.subplots(1,1)\n",
    "ax.plot(sdf.time, sdf['surfer count'])"
   ]
  },
  {
   "cell_type": "code",
   "execution_count": null,
   "metadata": {},
   "outputs": [],
   "source": []
  }
 ],
 "metadata": {
  "interpreter": {
   "hash": "66497cb3f375ff6c6d0c00b57d96940fcdae5e23d85c3719ba191f91b07a41a1"
  },
  "kernelspec": {
   "display_name": "Python 3",
   "language": "python",
   "name": "python3"
  },
  "language_info": {
   "codemirror_mode": {
    "name": "ipython",
    "version": 3
   },
   "file_extension": ".py",
   "mimetype": "text/x-python",
   "name": "python",
   "nbconvert_exporter": "python",
   "pygments_lexer": "ipython3",
   "version": "3.8.5"
  }
 },
 "nbformat": 4,
 "nbformat_minor": 5
}
